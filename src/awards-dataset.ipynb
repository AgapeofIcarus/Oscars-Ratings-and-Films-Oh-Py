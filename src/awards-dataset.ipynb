{
 "cells": [
  {
   "cell_type": "code",
   "execution_count": null,
   "metadata": {},
   "outputs": [],
   "source": [
    "#Import dependencies\n",
    "import pandas as pd\n",
    "\n",
    "#Import CSV file\n",
    "file = '../Resources/data_csv.csv'"
   ]
  },
  {
   "cell_type": "code",
   "execution_count": null,
   "metadata": {},
   "outputs": [],
   "source": [
    "# import dbconnection files\n",
    "from config import conn_str  \n",
    "from dboperations import *"
   ]
  },
  {
   "cell_type": "code",
   "execution_count": null,
   "metadata": {},
   "outputs": [],
   "source": [
    "conn = connect2db(conn_str)"
   ]
  },
  {
   "cell_type": "code",
   "execution_count": null,
   "metadata": {},
   "outputs": [],
   "source": [
    "#Create initial dataframe\n",
    "base_df = pd.read_csv(file, encoding=\"ISO-8859-1\")\n",
    "\n",
    "#Print to view\n",
    "base_df.head()"
   ]
  },
  {
   "cell_type": "code",
   "execution_count": null,
   "metadata": {},
   "outputs": [],
   "source": [
    "#Find all categories\n",
    "base_df[\"category\"].unique()"
   ]
  },
  {
   "cell_type": "code",
   "execution_count": null,
   "metadata": {},
   "outputs": [],
   "source": [
    "#Combine music score categories \n",
    "base_df['category'] = base_df['category'].replace(['MUSIC (Scoring)', 'MUSIC (Music Score of a Dramatic Picture)',\n",
    "                    'MUSIC (Original Score)', 'MUSIC (Scoring of a Musical Picture)', \n",
    "                     'MUSIC (Music Score of a Dramatic or Comedy Picture)', 'MUSIC (Music Score--substantially original)',\n",
    "                    'MUSIC (Original Music Score)',\n",
    "                   'MUSIC (Original Score--for a motion picture [not a musical])',\n",
    "                    'MUSIC (Score of a Musical Picture--original or adaptation)', 'MUSIC (Original Song Score)',\n",
    "                    'MUSIC (Original Dramatic Score)', 'MUSIC (Scoring: Adaptation and Original Song Score)',\n",
    "                    'MUSIC (Original Song Score and Its Adaptation or Adaptation Score)',\n",
    "                    'MUSIC (Original Song Score and Its Adaptation -or- Adaptation Score)',\n",
    "                    'MUSIC (Original Musical or Comedy Score)', 'MUSIC (Scoring: Original Song Score and Adaptation -or- Scoring: Adaptation)',\n",
    "                    'MUSIC (Original Song Score or Adaptation Score)', 'MUSIC (Adaptation Score)', \n",
    "                    'MUSIC (Scoring of Music--adaptation or treatment)'], 'MUSIC SCORE')"
   ]
  },
  {
   "cell_type": "code",
   "execution_count": null,
   "metadata": {},
   "outputs": [],
   "source": [
    "#Combine writing categories\n",
    "base_df['category'] = base_df['category'].replace(['WRITING (Adaptation)', 'WRITING (Original Story)',\n",
    "                    'WRITING (Screenplay)', 'WRITING (Original Screenplay)', 'WRITING (Original Motion Picture Story)',\n",
    "                    'WRITING (Story and Screenplay)', 'WRITING (Screenplay--Original)', \n",
    "                    'WRITING (Story and Screenplay--based on material not previously published or produced)',\n",
    "                     'WRITING (Story and Screenplay--written directly for the screen)', \n",
    "                    'WRITING (Story and Screenplay--based on material not previously published or produced)',\n",
    "       'WRITING (Story and Screenplay--based on factual material or material not previously published or produced)',\n",
    "                    'WRITING (Screenplay Adapted from Other Material)',\n",
    "                    'WRITING (Screenplay Written Directly for the Screen--based on factual material or on story material not previously published or produced)',\n",
    "                'WRITING (Screenplay Based on Material from Another Medium)', 'WRITING (Screenplay Written Directly for the Screen)',\n",
    "                    'WRITING (Screenplay Based on Material Previously Produced or Published)', 'WRITING (Screenplay--based on material from another medium)',\n",
    "                    'WRITING (Motion Picture Story)', 'WRITING (Adapted Screenplay)', 'WRITING (Screenplay--Adapted)'], 'WRITING')"
   ]
  },
  {
   "cell_type": "code",
   "execution_count": null,
   "metadata": {},
   "outputs": [],
   "source": [
    "#Combine Short Subject categories\n",
    "base_df[\"category\"] = base_df['category'].replace(['SHORT SUBJECT (Cartoon)', 'SHORT SUBJECT (Comedy)',\n",
    "       'SHORT SUBJECT (Novelty)', 'SHORT SUBJECT (Color)', 'SHORT SUBJECT (One-reel)','SHORT SUBJECT (Two-reel)',\n",
    "        'SHORT SUBJECT (Live Action)', 'SHORT SUBJECT (Animated)'] , 'SHORT SUBJECT')"
   ]
  },
  {
   "cell_type": "code",
   "execution_count": null,
   "metadata": {},
   "outputs": [],
   "source": [
    "#Combine scientific/technical award categories\n",
    "base_df['category'] = base_df['category'].replace(['SCIENTIFIC OR TECHNICAL AWARD (Class I)',\n",
    "       'SCIENTIFIC OR TECHNICAL AWARD (Class II)', 'SCIENTIFIC OR TECHNICAL AWARD (Class III)',\n",
    "        'SCIENTIFIC OR TECHNICAL AWARD (Academy Award of Merit)',\n",
    "       'SCIENTIFIC OR TECHNICAL AWARD (Scientific and Engineering Award)',\n",
    "       'SCIENTIFIC OR TECHNICAL AWARD (Technical Achievement Award)',\n",
    "        'SCIENTIFIC AND TECHNICAL AWARD (Special Award)', 'SCIENTIFIC AND TECHNICAL AWARD (Academy Award of Merit)',\n",
    "       'SCIENTIFIC AND TECHNICAL AWARD (Scientific and Engineering Award)',\n",
    "       'SCIENTIFIC AND TECHNICAL AWARD (Technical Achievement Award)'], 'SCIENTIFIC/TECHNICAL AWARD')"
   ]
  },
  {
   "cell_type": "code",
   "execution_count": null,
   "metadata": {},
   "outputs": [],
   "source": [
    "#Combine original song categories\n",
    "base_df['category'] = base_df['category'].replace(['MUSIC (Song)', 'MUSIC (Song--Original for the Picture)',\n",
    "                                'MUSIC (Original Song)'], 'ORIGINAL SONG')"
   ]
  },
  {
   "cell_type": "code",
   "execution_count": null,
   "metadata": {},
   "outputs": [],
   "source": [
    "#Combine costume design categories\n",
    "base_df['category'] = base_df['category'].replace(['COSTUME DESIGN (Black-and-White)', 'COSTUME DESIGN (Color)'], 'COSTUME DESIGN')"
   ]
  },
  {
   "cell_type": "code",
   "execution_count": null,
   "metadata": {},
   "outputs": [],
   "source": [
    "#Combine short film\n",
    "base_df['category'] = base_df['category'].replace(['SHORT FILM (Animated)', 'SHORT FILM (Live Action)', 'SHORT FILM (Dramatic Live Action)'], \n",
    "                                'SHORT FILM')\n"
   ]
  },
  {
   "cell_type": "code",
   "execution_count": null,
   "metadata": {},
   "outputs": [],
   "source": [
    "#Combine directing category\n",
    "base_df['category'] = base_df['category'].replace(['DIRECTING (Comedy Picture)', 'DIRECTING (Dramatic Picture)'], 'DIRECTING')"
   ]
  },
  {
   "cell_type": "code",
   "execution_count": null,
   "metadata": {},
   "outputs": [],
   "source": [
    "#Combine documentary category\n",
    "base_df['category'] = base_df['category'].replace(['DOCUMENTARY (Short Subject)', 'DOCUMENTARY (Feature)'], 'DOCUMENTARY')"
   ]
  },
  {
   "cell_type": "code",
   "execution_count": null,
   "metadata": {},
   "outputs": [],
   "source": [
    "#Combine cinematography category\n",
    "base_df['category'] = base_df['category'].replace(['CINEMATOGRAPHY (Black-and-White)', 'CINEMATOGRAPHY (Color)'], 'CINEMATOGRAPHY')"
   ]
  },
  {
   "cell_type": "code",
   "execution_count": null,
   "metadata": {},
   "outputs": [],
   "source": [
    "#Combine art direction category\n",
    "base_df['category'] = base_df['category'].replace(['ART DIRECTION (Black-and-White)', 'ART DIRECTION (Color)'], 'ART DIRECTION')"
   ]
  },
  {
   "cell_type": "code",
   "execution_count": null,
   "metadata": {},
   "outputs": [],
   "source": [
    "base_df[\"category\"].unique()"
   ]
  },
  {
   "cell_type": "code",
   "execution_count": null,
   "metadata": {},
   "outputs": [],
   "source": [
    "#award_categories prepare df\n",
    "category_df = pd.DataFrame({'category_name' : base_df['category'].unique()})\n",
    " \n",
    "category_df = category_df.reset_index() \n",
    "category_df['index'] = category_df['index']  + 1\n",
    "category_df['subcategory_name'] = \"\" \n",
    " \n",
    "category_df = category_df.rename(columns={'index': 'category_id'})\n",
    "\n",
    "category_df.head()\n"
   ]
  },
  {
   "cell_type": "code",
   "execution_count": null,
   "metadata": {},
   "outputs": [],
   "source": [
    "#award_categories insert df to table\n",
    "insertvalues(conn, \"award_categories\", category_df)"
   ]
  },
  {
   "cell_type": "code",
   "execution_count": null,
   "metadata": {},
   "outputs": [],
   "source": []
  },
  {
   "cell_type": "code",
   "execution_count": null,
   "metadata": {},
   "outputs": [],
   "source": [
    "winner_db = base_df.loc[base_df['winner'] == True, :]\n",
    "actors = winner_db.loc[winner_db['category'] == 'ACTOR', :]\n",
    "actors = actors.reset_index(drop=True)\n",
    "actors.head()"
   ]
  },
  {
   "cell_type": "code",
   "execution_count": null,
   "metadata": {},
   "outputs": [],
   "source": [
    "actress = winner_db.loc[winner_db['category'] == 'ACTRESS', :]\n",
    "actress = actress.reset_index(drop=True)\n",
    "actress.head()"
   ]
  },
  {
   "cell_type": "code",
   "execution_count": null,
   "metadata": {},
   "outputs": [],
   "source": [
    "directing = winner_db.loc[winner_db['category'] == 'DIRECTING', :]\n",
    "directing = directing.reset_index(drop=True)\n",
    "directing.head()"
   ]
  },
  {
   "cell_type": "code",
   "execution_count": null,
   "metadata": {},
   "outputs": [],
   "source": [
    "music_score = winner_db.loc[winner_db['category'] == 'MUSIC SCORE', :]\n",
    "music_score = music_score.reset_index(drop=True)\n",
    "music_score.head()"
   ]
  },
  {
   "cell_type": "code",
   "execution_count": null,
   "metadata": {},
   "outputs": [],
   "source": [
    "original_song = winner_db.loc[winner_db['category'] == 'ORIGINAL SONG', :]\n",
    "original_song = original_song.reset_index(drop=True)\n",
    "original_song.head()"
   ]
  },
  {
   "cell_type": "code",
   "execution_count": null,
   "metadata": {},
   "outputs": [],
   "source": [
    "writing = winner_db.loc[winner_db['category'] == 'WRITING', :]\n",
    "writing = writing.reset_index(drop=True)\n",
    "writing.head()"
   ]
  },
  {
   "cell_type": "code",
   "execution_count": null,
   "metadata": {},
   "outputs": [],
   "source": [
    "short_subject = winner_db.loc[winner_db['category'] == 'SHORT SUBJECT', :]\n",
    "short_subject = short_subject.reset_index(drop=True)\n",
    "short_subject.head()"
   ]
  },
  {
   "cell_type": "code",
   "execution_count": null,
   "metadata": {},
   "outputs": [],
   "source": [
    "scientific_technical = winner_db.loc[winner_db['category'] == 'SCIENTIFIC/TECHNICAL AWARD', :]\n",
    "scientific_technical = scientific_technical.reset_index(drop=True)\n",
    "scientific_technical.head()"
   ]
  },
  {
   "cell_type": "code",
   "execution_count": null,
   "metadata": {},
   "outputs": [],
   "source": [
    "costume_design = winner_db.loc[winner_db['category'] == 'COSTUME DESIGN', :]\n",
    "costume_design = costume_design.reset_index(drop=True)\n",
    "costume_design.head()"
   ]
  },
  {
   "cell_type": "code",
   "execution_count": null,
   "metadata": {},
   "outputs": [],
   "source": [
    "short_film = winner_db.loc[winner_db['category'] == 'SHORT FILM', :]\n",
    "short_film = short_film.reset_index(drop=True)\n",
    "short_film.head()"
   ]
  },
  {
   "cell_type": "code",
   "execution_count": null,
   "metadata": {},
   "outputs": [],
   "source": [
    "directing = winner_db.loc[winner_db['category'] == 'DIRECTING', :]\n",
    "directing = directing.reset_index(drop=True)\n",
    "directing.head()"
   ]
  },
  {
   "cell_type": "code",
   "execution_count": null,
   "metadata": {},
   "outputs": [],
   "source": [
    "documentary = winner_db.loc[winner_db['category'] == 'DOCUMENTARY', :]\n",
    "documentary = documentary.reset_index(drop=True)\n",
    "documentary.head()"
   ]
  },
  {
   "cell_type": "code",
   "execution_count": null,
   "metadata": {},
   "outputs": [],
   "source": [
    "cinematography = winner_db.loc[winner_db['category'] == 'CINEMATOGRAPHY', :]\n",
    "cinematography = cinematography.reset_index(drop=True)\n",
    "cinematography.head()"
   ]
  },
  {
   "cell_type": "code",
   "execution_count": null,
   "metadata": {},
   "outputs": [],
   "source": [
    "art_direction = winner_db.loc[winner_db['category'] == 'ART DIRECTION', :]\n",
    "art_direction = art_direction.reset_index(drop=True)\n",
    "art_direction.head()"
   ]
  },
  {
   "cell_type": "code",
   "execution_count": null,
   "metadata": {},
   "outputs": [],
   "source": [
    "#nominees prepare df\n",
    "nominees_df = pd.concat([actors, actress, directing], ignore_index=True)\n",
    "nominees_df = pd.DataFrame({'nominee_name': nominees_df['entity']})\n",
    "nominees_df.head()"
   ]
  },
  {
   "cell_type": "code",
   "execution_count": null,
   "metadata": {},
   "outputs": [],
   "source": [
    "#nominees prepare df \n",
    "max_id = get_max_value(conn, 'nominees', 'nominee_id') + 1\n",
    "\n",
    "nominees_df = nominees_df.reset_index() \n",
    "nominees_df['index'] += max_id\n",
    "nominees_df = nominees_df.rename(columns={'index': 'nominee_id'})\n",
    "nominees_df.head()"
   ]
  },
  {
   "cell_type": "code",
   "execution_count": null,
   "metadata": {},
   "outputs": [],
   "source": [
    "#nominees insert df to table\n",
    "insertvalues(conn, \"nominees\", nominees_df)"
   ]
  },
  {
   "cell_type": "code",
   "execution_count": null,
   "metadata": {},
   "outputs": [],
   "source": [
    "closeconnection(conn)"
   ]
  },
  {
   "cell_type": "code",
   "execution_count": null,
   "metadata": {},
   "outputs": [],
   "source": []
  }
 ],
 "metadata": {
  "kernelspec": {
   "display_name": "Python 3",
   "language": "python",
   "name": "python3"
  },
  "language_info": {
   "codemirror_mode": {
    "name": "ipython",
    "version": 3
   },
   "file_extension": ".py",
   "mimetype": "text/x-python",
   "name": "python",
   "nbconvert_exporter": "python",
   "pygments_lexer": "ipython3",
   "version": "3.8.5"
  }
 },
 "nbformat": 4,
 "nbformat_minor": 5
}
