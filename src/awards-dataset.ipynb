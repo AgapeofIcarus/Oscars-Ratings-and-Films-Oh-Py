{
 "cells": [
  {
   "cell_type": "code",
   "execution_count": 1,
   "metadata": {},
   "outputs": [],
   "source": [
    "#Import dependencies\n",
    "import pandas as pd\n",
    "\n",
    "#Import CSV file\n",
    "file = '../Resources/data_csv.csv'"
   ]
  },
  {
   "cell_type": "code",
   "execution_count": 2,
   "metadata": {},
   "outputs": [],
   "source": [
    "# import dbconnection files\n",
    "from config import conn_str  \n",
    "from dboperations import connect2db, insertvalues"
   ]
  },
  {
   "cell_type": "code",
   "execution_count": 3,
   "metadata": {},
   "outputs": [
    {
     "name": "stdout",
     "output_type": "stream",
     "text": [
      "Connection Succesful\n"
     ]
    }
   ],
   "source": [
    "conn = connect2db(conn_str)"
   ]
  },
  {
   "cell_type": "code",
   "execution_count": 4,
   "metadata": {},
   "outputs": [
    {
     "data": {
      "text/html": [
       "<div>\n",
       "<style scoped>\n",
       "    .dataframe tbody tr th:only-of-type {\n",
       "        vertical-align: middle;\n",
       "    }\n",
       "\n",
       "    .dataframe tbody tr th {\n",
       "        vertical-align: top;\n",
       "    }\n",
       "\n",
       "    .dataframe thead th {\n",
       "        text-align: right;\n",
       "    }\n",
       "</style>\n",
       "<table border=\"1\" class=\"dataframe\">\n",
       "  <thead>\n",
       "    <tr style=\"text-align: right;\">\n",
       "      <th></th>\n",
       "      <th>year</th>\n",
       "      <th>category</th>\n",
       "      <th>winner</th>\n",
       "      <th>entity</th>\n",
       "    </tr>\n",
       "  </thead>\n",
       "  <tbody>\n",
       "    <tr>\n",
       "      <th>0</th>\n",
       "      <td>1927</td>\n",
       "      <td>ACTOR</td>\n",
       "      <td>False</td>\n",
       "      <td>Richard Barthelmess</td>\n",
       "    </tr>\n",
       "    <tr>\n",
       "      <th>1</th>\n",
       "      <td>1927</td>\n",
       "      <td>ACTOR</td>\n",
       "      <td>True</td>\n",
       "      <td>Emil Jannings</td>\n",
       "    </tr>\n",
       "    <tr>\n",
       "      <th>2</th>\n",
       "      <td>1927</td>\n",
       "      <td>ACTRESS</td>\n",
       "      <td>False</td>\n",
       "      <td>Louise Dresser</td>\n",
       "    </tr>\n",
       "    <tr>\n",
       "      <th>3</th>\n",
       "      <td>1927</td>\n",
       "      <td>ACTRESS</td>\n",
       "      <td>True</td>\n",
       "      <td>Janet Gaynor</td>\n",
       "    </tr>\n",
       "    <tr>\n",
       "      <th>4</th>\n",
       "      <td>1927</td>\n",
       "      <td>ACTRESS</td>\n",
       "      <td>False</td>\n",
       "      <td>Gloria Swanson</td>\n",
       "    </tr>\n",
       "  </tbody>\n",
       "</table>\n",
       "</div>"
      ],
      "text/plain": [
       "   year category  winner               entity\n",
       "0  1927    ACTOR   False  Richard Barthelmess\n",
       "1  1927    ACTOR    True        Emil Jannings\n",
       "2  1927  ACTRESS   False       Louise Dresser\n",
       "3  1927  ACTRESS    True         Janet Gaynor\n",
       "4  1927  ACTRESS   False       Gloria Swanson"
      ]
     },
     "execution_count": 4,
     "metadata": {},
     "output_type": "execute_result"
    }
   ],
   "source": [
    "#Create initial dataframe\n",
    "base_df = pd.read_csv(file, encoding=\"ISO-8859-1\")\n",
    "\n",
    "#Print to view\n",
    "base_df.head()"
   ]
  },
  {
   "cell_type": "code",
   "execution_count": 5,
   "metadata": {},
   "outputs": [
    {
     "data": {
      "text/plain": [
       "array(['ACTOR', 'ACTRESS', 'ART DIRECTION', 'CINEMATOGRAPHY',\n",
       "       'DIRECTING (Comedy Picture)', 'DIRECTING (Dramatic Picture)',\n",
       "       'ENGINEERING EFFECTS', 'OUTSTANDING PICTURE',\n",
       "       'UNIQUE AND ARTISTIC PICTURE', 'WRITING (Adaptation)',\n",
       "       'WRITING (Original Story)', 'WRITING (Title Writing)',\n",
       "       'SPECIAL AWARD', 'DIRECTING', 'WRITING', 'OUTSTANDING PRODUCTION',\n",
       "       'SOUND RECORDING', 'SCIENTIFIC OR TECHNICAL AWARD (Class I)',\n",
       "       'SCIENTIFIC OR TECHNICAL AWARD (Class II)',\n",
       "       'SCIENTIFIC OR TECHNICAL AWARD (Class III)',\n",
       "       'SHORT SUBJECT (Cartoon)', 'SHORT SUBJECT (Comedy)',\n",
       "       'SHORT SUBJECT (Novelty)', 'ASSISTANT DIRECTOR', 'FILM EDITING',\n",
       "       'MUSIC (Scoring)', 'MUSIC (Song)', 'DANCE DIRECTION',\n",
       "       'WRITING (Screenplay)', 'ACTOR IN A SUPPORTING ROLE',\n",
       "       'ACTRESS IN A SUPPORTING ROLE', 'SHORT SUBJECT (Color)',\n",
       "       'SHORT SUBJECT (One-reel)', 'SHORT SUBJECT (Two-reel)',\n",
       "       'IRVING G. THALBERG MEMORIAL AWARD', 'MUSIC (Original Score)',\n",
       "       'CINEMATOGRAPHY (Black-and-White)', 'CINEMATOGRAPHY (Color)',\n",
       "       'SPECIAL EFFECTS', 'ART DIRECTION (Black-and-White)',\n",
       "       'ART DIRECTION (Color)', 'WRITING (Original Screenplay)',\n",
       "       'DOCUMENTARY (Short Subject)',\n",
       "       'MUSIC (Music Score of a Dramatic Picture)',\n",
       "       'MUSIC (Scoring of a Musical Picture)',\n",
       "       'OUTSTANDING MOTION PICTURE', 'DOCUMENTARY',\n",
       "       'MUSIC (Music Score of a Dramatic or Comedy Picture)',\n",
       "       'WRITING (Original Motion Picture Story)', 'DOCUMENTARY (Feature)',\n",
       "       'BEST MOTION PICTURE', 'WRITING (Motion Picture Story)',\n",
       "       'COSTUME DESIGN (Black-and-White)', 'COSTUME DESIGN (Color)',\n",
       "       'SPECIAL FOREIGN LANGUAGE FILM AWARD',\n",
       "       'WRITING (Story and Screenplay)',\n",
       "       'HONORARY FOREIGN LANGUAGE FILM AWARD', 'HONORARY AWARD',\n",
       "       'FOREIGN LANGUAGE FILM', 'WRITING (Screenplay--Adapted)',\n",
       "       'WRITING (Screenplay--Original)',\n",
       "       'JEAN HERSHOLT HUMANITARIAN AWARD', 'COSTUME DESIGN',\n",
       "       'SHORT SUBJECT (Live Action)',\n",
       "       'WRITING (Screenplay--based on material from another medium)',\n",
       "       'WRITING (Story and Screenplay--written directly for the screen)',\n",
       "       'SOUND', 'MUSIC (Music Score--substantially original)',\n",
       "       'MUSIC (Scoring of Music--adaptation or treatment)',\n",
       "       'BEST PICTURE', 'SOUND EFFECTS', 'SPECIAL VISUAL EFFECTS',\n",
       "       'MUSIC (Original Music Score)',\n",
       "       'MUSIC (Original Score--for a motion picture [not a musical])',\n",
       "       'MUSIC (Score of a Musical Picture--original or adaptation)',\n",
       "       'MUSIC (Song--Original for the Picture)',\n",
       "       'WRITING (Story and Screenplay--based on material not previously published or produced)',\n",
       "       'MUSIC (Original Song Score)',\n",
       "       'WRITING (Story and Screenplay--based on factual material or material not previously published or produced)',\n",
       "       'MUSIC (Original Dramatic Score)',\n",
       "       'MUSIC (Scoring: Adaptation and Original Song Score)',\n",
       "       'SHORT SUBJECT (Animated)',\n",
       "       'SPECIAL ACHIEVEMENT AWARD (Visual Effects)',\n",
       "       'MUSIC (Scoring: Original Song Score and Adaptation -or- Scoring: Adaptation)',\n",
       "       'SHORT FILM (Animated)', 'SHORT FILM (Live Action)',\n",
       "       'WRITING (Screenplay Adapted from Other Material)',\n",
       "       'MUSIC (Original Song)',\n",
       "       'SPECIAL ACHIEVEMENT AWARD (Sound Effects)',\n",
       "       'ACTOR IN A LEADING ROLE', 'ACTRESS IN A LEADING ROLE',\n",
       "       'MUSIC (Original Song Score and Its Adaptation or Adaptation Score)',\n",
       "       'WRITING (Screenplay Written Directly for the Screen--based on factual material or on story material not previously published or produced)',\n",
       "       'VISUAL EFFECTS', 'SPECIAL ACHIEVEMENT AWARD',\n",
       "       'SPECIAL ACHIEVEMENT AWARD (Sound Effects Editing)',\n",
       "       'MEDAL OF COMMENDATION', 'MUSIC (Adaptation Score)',\n",
       "       'WRITING (Screenplay Based on Material from Another Medium)',\n",
       "       'WRITING (Screenplay Written Directly for the Screen)',\n",
       "       'SCIENTIFIC OR TECHNICAL AWARD (Academy Award of Merit)',\n",
       "       'SCIENTIFIC OR TECHNICAL AWARD (Scientific and Engineering Award)',\n",
       "       'SCIENTIFIC OR TECHNICAL AWARD (Technical Achievement Award)',\n",
       "       'MUSIC (Original Song Score and Its Adaptation -or- Adaptation Score)',\n",
       "       'SPECIAL ACHIEVEMENT AWARD (Sound Editing)',\n",
       "       'SHORT FILM (Dramatic Live Action)', 'MAKEUP',\n",
       "       'GORDON E. SAWYER AWARD', 'SOUND EFFECTS EDITING',\n",
       "       'MUSIC (Original Song Score or Adaptation Score)',\n",
       "       'AWARD OF COMMENDATION',\n",
       "       'WRITING (Screenplay Based on Material Previously Produced or Published)',\n",
       "       'SCIENTIFIC AND TECHNICAL AWARD (Academy Award of Merit)',\n",
       "       'SCIENTIFIC AND TECHNICAL AWARD (Scientific and Engineering Award)',\n",
       "       'SCIENTIFIC AND TECHNICAL AWARD (Technical Achievement Award)',\n",
       "       'MUSIC (Original Musical or Comedy Score)',\n",
       "       'JOHN A. BONNER MEDAL OF COMMENDATION', 'SOUND EDITING',\n",
       "       'ANIMATED FEATURE FILM', 'WRITING (Adapted Screenplay)',\n",
       "       'SOUND MIXING', 'MAKEUP AND HAIRSTYLING', 'PRODUCTION DESIGN',\n",
       "       'SCIENTIFIC AND TECHNICAL AWARD (Special Award)'], dtype=object)"
      ]
     },
     "execution_count": 5,
     "metadata": {},
     "output_type": "execute_result"
    }
   ],
   "source": [
    "#Find all categories\n",
    "base_df[\"category\"].unique()"
   ]
  },
  {
   "cell_type": "code",
   "execution_count": 6,
   "metadata": {},
   "outputs": [],
   "source": [
    "#Combine music score categories \n",
    "base_df['category'] = base_df['category'].replace(['MUSIC (Scoring)', 'MUSIC (Music Score of a Dramatic Picture)',\n",
    "                    'MUSIC (Original Score)', 'MUSIC (Scoring of a Musical Picture)', \n",
    "                     'MUSIC (Music Score of a Dramatic or Comedy Picture)', 'MUSIC (Music Score--substantially original)',\n",
    "                    'MUSIC (Original Music Score)',\n",
    "                   'MUSIC (Original Score--for a motion picture [not a musical])',\n",
    "                    'MUSIC (Score of a Musical Picture--original or adaptation)', 'MUSIC (Original Song Score)',\n",
    "                    'MUSIC (Original Dramatic Score)', 'MUSIC (Scoring: Adaptation and Original Song Score)',\n",
    "                    'MUSIC (Original Song Score and Its Adaptation or Adaptation Score)',\n",
    "                    'MUSIC (Original Song Score and Its Adaptation -or- Adaptation Score)',\n",
    "                    'MUSIC (Original Musical or Comedy Score)', 'MUSIC (Scoring: Original Song Score and Adaptation -or- Scoring: Adaptation)',\n",
    "                    'MUSIC (Original Song Score or Adaptation Score)', 'MUSIC (Adaptation Score)', \n",
    "                    'MUSIC (Scoring of Music--adaptation or treatment)'], 'MUSIC SCORE')"
   ]
  },
  {
   "cell_type": "code",
   "execution_count": 7,
   "metadata": {},
   "outputs": [],
   "source": [
    "#Combine writing categories\n",
    "base_df['category'] = base_df['category'].replace(['WRITING (Adaptation)', 'WRITING (Original Story)',\n",
    "                    'WRITING (Screenplay)', 'WRITING (Original Screenplay)', 'WRITING (Original Motion Picture Story)',\n",
    "                    'WRITING (Story and Screenplay)', 'WRITING (Screenplay--Original)', \n",
    "                    'WRITING (Story and Screenplay--based on material not previously published or produced)',\n",
    "                     'WRITING (Story and Screenplay--written directly for the screen)', \n",
    "                    'WRITING (Story and Screenplay--based on material not previously published or produced)',\n",
    "       'WRITING (Story and Screenplay--based on factual material or material not previously published or produced)',\n",
    "                    'WRITING (Screenplay Adapted from Other Material)',\n",
    "                    'WRITING (Screenplay Written Directly for the Screen--based on factual material or on story material not previously published or produced)',\n",
    "                'WRITING (Screenplay Based on Material from Another Medium)', 'WRITING (Screenplay Written Directly for the Screen)',\n",
    "                    'WRITING (Screenplay Based on Material Previously Produced or Published)', 'WRITING (Screenplay--based on material from another medium)',\n",
    "                    'WRITING (Motion Picture Story)', 'WRITING (Adapted Screenplay)', 'WRITING (Screenplay--Adapted)'], 'WRITING')"
   ]
  },
  {
   "cell_type": "code",
   "execution_count": 8,
   "metadata": {},
   "outputs": [],
   "source": [
    "#Combine Short Subject categories\n",
    "base_df[\"category\"] = base_df['category'].replace(['SHORT SUBJECT (Cartoon)', 'SHORT SUBJECT (Comedy)',\n",
    "       'SHORT SUBJECT (Novelty)', 'SHORT SUBJECT (Color)', 'SHORT SUBJECT (One-reel)','SHORT SUBJECT (Two-reel)',\n",
    "        'SHORT SUBJECT (Live Action)', 'SHORT SUBJECT (Animated)'] , 'SHORT SUBJECT')"
   ]
  },
  {
   "cell_type": "code",
   "execution_count": 9,
   "metadata": {},
   "outputs": [],
   "source": [
    "#Combine scientific/technical award categories\n",
    "base_df['category'] = base_df['category'].replace(['SCIENTIFIC OR TECHNICAL AWARD (Class I)',\n",
    "       'SCIENTIFIC OR TECHNICAL AWARD (Class II)', 'SCIENTIFIC OR TECHNICAL AWARD (Class III)',\n",
    "        'SCIENTIFIC OR TECHNICAL AWARD (Academy Award of Merit)',\n",
    "       'SCIENTIFIC OR TECHNICAL AWARD (Scientific and Engineering Award)',\n",
    "       'SCIENTIFIC OR TECHNICAL AWARD (Technical Achievement Award)',\n",
    "        'SCIENTIFIC AND TECHNICAL AWARD (Special Award)', 'SCIENTIFIC AND TECHNICAL AWARD (Academy Award of Merit)',\n",
    "       'SCIENTIFIC AND TECHNICAL AWARD (Scientific and Engineering Award)',\n",
    "       'SCIENTIFIC AND TECHNICAL AWARD (Technical Achievement Award)'], 'SCIENTIFIC/TECHNICAL AWARD')"
   ]
  },
  {
   "cell_type": "code",
   "execution_count": 10,
   "metadata": {},
   "outputs": [],
   "source": [
    "#Combine original song categories\n",
    "base_df['category'] = base_df['category'].replace(['MUSIC (Song)', 'MUSIC (Song--Original for the Picture)',\n",
    "                                'MUSIC (Original Song)'], 'ORIGINAL SONG')"
   ]
  },
  {
   "cell_type": "code",
   "execution_count": 11,
   "metadata": {},
   "outputs": [],
   "source": [
    "#Combine costume design categories\n",
    "base_df['category'] = base_df['category'].replace(['COSTUME DESIGN (Black-and-White)', 'COSTUME DESIGN (Color)'], 'COSTUME DESIGN')"
   ]
  },
  {
   "cell_type": "code",
   "execution_count": 12,
   "metadata": {},
   "outputs": [],
   "source": [
    "#Combine short film\n",
    "base_df['category'] = base_df['category'].replace(['SHORT FILM (Animated)', 'SHORT FILM (Live Action)', 'SHORT FILM (Dramatic Live Action)'], \n",
    "                                'SHORT FILM')\n"
   ]
  },
  {
   "cell_type": "code",
   "execution_count": 13,
   "metadata": {},
   "outputs": [],
   "source": [
    "#Combine directing category\n",
    "base_df['category'] = base_df['category'].replace(['DIRECTING (Comedy Picture)', 'DIRECTING (Dramatic Picture)'], 'DIRECTING')"
   ]
  },
  {
   "cell_type": "code",
   "execution_count": 14,
   "metadata": {},
   "outputs": [],
   "source": [
    "#Combine documentary category\n",
    "base_df['category'] = base_df['category'].replace(['DOCUMENTARY (Short Subject)', 'DOCUMENTARY (Feature)'], 'DOCUMENTARY')"
   ]
  },
  {
   "cell_type": "code",
   "execution_count": 15,
   "metadata": {},
   "outputs": [],
   "source": [
    "#Combine cinematography category\n",
    "base_df['category'] = base_df['category'].replace(['CINEMATOGRAPHY (Black-and-White)', 'CINEMATOGRAPHY (Color)'], 'CINEMATOGRAPHY')"
   ]
  },
  {
   "cell_type": "code",
   "execution_count": 16,
   "metadata": {},
   "outputs": [],
   "source": [
    "#Combine art direction category\n",
    "base_df['category'] = base_df['category'].replace(['ART DIRECTION (Black-and-White)', 'ART DIRECTION (Color)'], 'ART DIRECTION')"
   ]
  },
  {
   "cell_type": "code",
   "execution_count": 17,
   "metadata": {},
   "outputs": [
    {
     "data": {
      "text/plain": [
       "array(['ACTOR', 'ACTRESS', 'ART DIRECTION', 'CINEMATOGRAPHY', 'DIRECTING',\n",
       "       'ENGINEERING EFFECTS', 'OUTSTANDING PICTURE',\n",
       "       'UNIQUE AND ARTISTIC PICTURE', 'WRITING',\n",
       "       'WRITING (Title Writing)', 'SPECIAL AWARD',\n",
       "       'OUTSTANDING PRODUCTION', 'SOUND RECORDING',\n",
       "       'SCIENTIFIC/TECHNICAL AWARD', 'SHORT SUBJECT',\n",
       "       'ASSISTANT DIRECTOR', 'FILM EDITING', 'MUSIC SCORE',\n",
       "       'ORIGINAL SONG', 'DANCE DIRECTION', 'ACTOR IN A SUPPORTING ROLE',\n",
       "       'ACTRESS IN A SUPPORTING ROLE',\n",
       "       'IRVING G. THALBERG MEMORIAL AWARD', 'SPECIAL EFFECTS',\n",
       "       'DOCUMENTARY', 'OUTSTANDING MOTION PICTURE', 'BEST MOTION PICTURE',\n",
       "       'COSTUME DESIGN', 'SPECIAL FOREIGN LANGUAGE FILM AWARD',\n",
       "       'HONORARY FOREIGN LANGUAGE FILM AWARD', 'HONORARY AWARD',\n",
       "       'FOREIGN LANGUAGE FILM', 'JEAN HERSHOLT HUMANITARIAN AWARD',\n",
       "       'SOUND', 'BEST PICTURE', 'SOUND EFFECTS', 'SPECIAL VISUAL EFFECTS',\n",
       "       'SPECIAL ACHIEVEMENT AWARD (Visual Effects)', 'SHORT FILM',\n",
       "       'SPECIAL ACHIEVEMENT AWARD (Sound Effects)',\n",
       "       'ACTOR IN A LEADING ROLE', 'ACTRESS IN A LEADING ROLE',\n",
       "       'VISUAL EFFECTS', 'SPECIAL ACHIEVEMENT AWARD',\n",
       "       'SPECIAL ACHIEVEMENT AWARD (Sound Effects Editing)',\n",
       "       'MEDAL OF COMMENDATION',\n",
       "       'SPECIAL ACHIEVEMENT AWARD (Sound Editing)', 'MAKEUP',\n",
       "       'GORDON E. SAWYER AWARD', 'SOUND EFFECTS EDITING',\n",
       "       'AWARD OF COMMENDATION', 'JOHN A. BONNER MEDAL OF COMMENDATION',\n",
       "       'SOUND EDITING', 'ANIMATED FEATURE FILM', 'SOUND MIXING',\n",
       "       'MAKEUP AND HAIRSTYLING', 'PRODUCTION DESIGN'], dtype=object)"
      ]
     },
     "execution_count": 17,
     "metadata": {},
     "output_type": "execute_result"
    }
   ],
   "source": [
    "base_df[\"category\"].unique()"
   ]
  },
  {
   "cell_type": "code",
   "execution_count": 39,
   "metadata": {},
   "outputs": [
    {
     "data": {
      "text/html": [
       "<div>\n",
       "<style scoped>\n",
       "    .dataframe tbody tr th:only-of-type {\n",
       "        vertical-align: middle;\n",
       "    }\n",
       "\n",
       "    .dataframe tbody tr th {\n",
       "        vertical-align: top;\n",
       "    }\n",
       "\n",
       "    .dataframe thead th {\n",
       "        text-align: right;\n",
       "    }\n",
       "</style>\n",
       "<table border=\"1\" class=\"dataframe\">\n",
       "  <thead>\n",
       "    <tr style=\"text-align: right;\">\n",
       "      <th></th>\n",
       "      <th>category_id</th>\n",
       "      <th>category_name</th>\n",
       "      <th>subcategory_name</th>\n",
       "      <th>description</th>\n",
       "    </tr>\n",
       "  </thead>\n",
       "  <tbody>\n",
       "    <tr>\n",
       "      <th>0</th>\n",
       "      <td>1</td>\n",
       "      <td>ACTOR</td>\n",
       "      <td></td>\n",
       "      <td></td>\n",
       "    </tr>\n",
       "    <tr>\n",
       "      <th>1</th>\n",
       "      <td>2</td>\n",
       "      <td>ACTRESS</td>\n",
       "      <td></td>\n",
       "      <td></td>\n",
       "    </tr>\n",
       "    <tr>\n",
       "      <th>2</th>\n",
       "      <td>3</td>\n",
       "      <td>ART DIRECTION</td>\n",
       "      <td></td>\n",
       "      <td></td>\n",
       "    </tr>\n",
       "    <tr>\n",
       "      <th>3</th>\n",
       "      <td>4</td>\n",
       "      <td>CINEMATOGRAPHY</td>\n",
       "      <td></td>\n",
       "      <td></td>\n",
       "    </tr>\n",
       "    <tr>\n",
       "      <th>4</th>\n",
       "      <td>5</td>\n",
       "      <td>DIRECTING</td>\n",
       "      <td></td>\n",
       "      <td></td>\n",
       "    </tr>\n",
       "  </tbody>\n",
       "</table>\n",
       "</div>"
      ],
      "text/plain": [
       "   category_id   category_name subcategory_name description\n",
       "0            1           ACTOR                             \n",
       "1            2         ACTRESS                             \n",
       "2            3   ART DIRECTION                             \n",
       "3            4  CINEMATOGRAPHY                             \n",
       "4            5       DIRECTING                             "
      ]
     },
     "execution_count": 39,
     "metadata": {},
     "output_type": "execute_result"
    }
   ],
   "source": [
    "#award_categories prepare df\n",
    "category_df = pd.DataFrame({'category_name' : base_df['category'].unique()})\n",
    " \n",
    "category_df = category_df.reset_index() \n",
    "category_df['index'] = category_df['index']  + 1\n",
    "category_df['subcategory_name'] = \"\"\n",
    "category_df['description'] = \"\"\n",
    " \n",
    "category_df = category_df.rename(columns={'index': 'category_id'})\n",
    "\n",
    "category_df.head()\n"
   ]
  },
  {
   "cell_type": "code",
   "execution_count": 40,
   "metadata": {},
   "outputs": [
    {
     "name": "stdout",
     "output_type": "stream",
     "text": [
      "Values Succesfully Insert To award_categories\n"
     ]
    }
   ],
   "source": [
    "#award_categories insert df to table\n",
    "insertvalues(conn, \"award_categories\", category_df)"
   ]
  },
  {
   "cell_type": "code",
   "execution_count": null,
   "metadata": {},
   "outputs": [],
   "source": []
  },
  {
   "cell_type": "code",
   "execution_count": 20,
   "metadata": {},
   "outputs": [
    {
     "data": {
      "text/html": [
       "<div>\n",
       "<style scoped>\n",
       "    .dataframe tbody tr th:only-of-type {\n",
       "        vertical-align: middle;\n",
       "    }\n",
       "\n",
       "    .dataframe tbody tr th {\n",
       "        vertical-align: top;\n",
       "    }\n",
       "\n",
       "    .dataframe thead th {\n",
       "        text-align: right;\n",
       "    }\n",
       "</style>\n",
       "<table border=\"1\" class=\"dataframe\">\n",
       "  <thead>\n",
       "    <tr style=\"text-align: right;\">\n",
       "      <th></th>\n",
       "      <th>year</th>\n",
       "      <th>category</th>\n",
       "      <th>winner</th>\n",
       "      <th>entity</th>\n",
       "    </tr>\n",
       "  </thead>\n",
       "  <tbody>\n",
       "    <tr>\n",
       "      <th>0</th>\n",
       "      <td>1927</td>\n",
       "      <td>ACTOR</td>\n",
       "      <td>True</td>\n",
       "      <td>Emil Jannings</td>\n",
       "    </tr>\n",
       "    <tr>\n",
       "      <th>1</th>\n",
       "      <td>1928</td>\n",
       "      <td>ACTOR</td>\n",
       "      <td>True</td>\n",
       "      <td>Warner Baxter</td>\n",
       "    </tr>\n",
       "    <tr>\n",
       "      <th>2</th>\n",
       "      <td>1929</td>\n",
       "      <td>ACTOR</td>\n",
       "      <td>True</td>\n",
       "      <td>George Arliss</td>\n",
       "    </tr>\n",
       "    <tr>\n",
       "      <th>3</th>\n",
       "      <td>1930</td>\n",
       "      <td>ACTOR</td>\n",
       "      <td>True</td>\n",
       "      <td>Lionel Barrymore</td>\n",
       "    </tr>\n",
       "    <tr>\n",
       "      <th>4</th>\n",
       "      <td>1931</td>\n",
       "      <td>ACTOR</td>\n",
       "      <td>True</td>\n",
       "      <td>Wallace Beery</td>\n",
       "    </tr>\n",
       "  </tbody>\n",
       "</table>\n",
       "</div>"
      ],
      "text/plain": [
       "   year category  winner            entity\n",
       "0  1927    ACTOR    True     Emil Jannings\n",
       "1  1928    ACTOR    True     Warner Baxter\n",
       "2  1929    ACTOR    True     George Arliss\n",
       "3  1930    ACTOR    True  Lionel Barrymore\n",
       "4  1931    ACTOR    True     Wallace Beery"
      ]
     },
     "execution_count": 20,
     "metadata": {},
     "output_type": "execute_result"
    }
   ],
   "source": [
    "winner_db = base_df.loc[base_df['winner'] == True, :]\n",
    "actors = winner_db.loc[winner_db['category'] == 'ACTOR', :]\n",
    "actors = actors.reset_index(drop=True)\n",
    "actors.head()"
   ]
  },
  {
   "cell_type": "code",
   "execution_count": 21,
   "metadata": {},
   "outputs": [
    {
     "data": {
      "text/html": [
       "<div>\n",
       "<style scoped>\n",
       "    .dataframe tbody tr th:only-of-type {\n",
       "        vertical-align: middle;\n",
       "    }\n",
       "\n",
       "    .dataframe tbody tr th {\n",
       "        vertical-align: top;\n",
       "    }\n",
       "\n",
       "    .dataframe thead th {\n",
       "        text-align: right;\n",
       "    }\n",
       "</style>\n",
       "<table border=\"1\" class=\"dataframe\">\n",
       "  <thead>\n",
       "    <tr style=\"text-align: right;\">\n",
       "      <th></th>\n",
       "      <th>year</th>\n",
       "      <th>category</th>\n",
       "      <th>winner</th>\n",
       "      <th>entity</th>\n",
       "    </tr>\n",
       "  </thead>\n",
       "  <tbody>\n",
       "    <tr>\n",
       "      <th>0</th>\n",
       "      <td>1927</td>\n",
       "      <td>ACTRESS</td>\n",
       "      <td>True</td>\n",
       "      <td>Janet Gaynor</td>\n",
       "    </tr>\n",
       "    <tr>\n",
       "      <th>1</th>\n",
       "      <td>1928</td>\n",
       "      <td>ACTRESS</td>\n",
       "      <td>True</td>\n",
       "      <td>Mary Pickford</td>\n",
       "    </tr>\n",
       "    <tr>\n",
       "      <th>2</th>\n",
       "      <td>1929</td>\n",
       "      <td>ACTRESS</td>\n",
       "      <td>True</td>\n",
       "      <td>Norma Shearer</td>\n",
       "    </tr>\n",
       "    <tr>\n",
       "      <th>3</th>\n",
       "      <td>1930</td>\n",
       "      <td>ACTRESS</td>\n",
       "      <td>True</td>\n",
       "      <td>Marie Dressler</td>\n",
       "    </tr>\n",
       "    <tr>\n",
       "      <th>4</th>\n",
       "      <td>1931</td>\n",
       "      <td>ACTRESS</td>\n",
       "      <td>True</td>\n",
       "      <td>Helen Hayes</td>\n",
       "    </tr>\n",
       "  </tbody>\n",
       "</table>\n",
       "</div>"
      ],
      "text/plain": [
       "   year category  winner          entity\n",
       "0  1927  ACTRESS    True    Janet Gaynor\n",
       "1  1928  ACTRESS    True   Mary Pickford\n",
       "2  1929  ACTRESS    True   Norma Shearer\n",
       "3  1930  ACTRESS    True  Marie Dressler\n",
       "4  1931  ACTRESS    True     Helen Hayes"
      ]
     },
     "execution_count": 21,
     "metadata": {},
     "output_type": "execute_result"
    }
   ],
   "source": [
    "actress = winner_db.loc[winner_db['category'] == 'ACTRESS', :]\n",
    "actress = actress.reset_index(drop=True)\n",
    "actress.head()"
   ]
  },
  {
   "cell_type": "code",
   "execution_count": 22,
   "metadata": {},
   "outputs": [
    {
     "data": {
      "text/html": [
       "<div>\n",
       "<style scoped>\n",
       "    .dataframe tbody tr th:only-of-type {\n",
       "        vertical-align: middle;\n",
       "    }\n",
       "\n",
       "    .dataframe tbody tr th {\n",
       "        vertical-align: top;\n",
       "    }\n",
       "\n",
       "    .dataframe thead th {\n",
       "        text-align: right;\n",
       "    }\n",
       "</style>\n",
       "<table border=\"1\" class=\"dataframe\">\n",
       "  <thead>\n",
       "    <tr style=\"text-align: right;\">\n",
       "      <th></th>\n",
       "      <th>year</th>\n",
       "      <th>category</th>\n",
       "      <th>winner</th>\n",
       "      <th>entity</th>\n",
       "    </tr>\n",
       "  </thead>\n",
       "  <tbody>\n",
       "    <tr>\n",
       "      <th>0</th>\n",
       "      <td>1927</td>\n",
       "      <td>DIRECTING</td>\n",
       "      <td>True</td>\n",
       "      <td>Lewis Milestone</td>\n",
       "    </tr>\n",
       "    <tr>\n",
       "      <th>1</th>\n",
       "      <td>1927</td>\n",
       "      <td>DIRECTING</td>\n",
       "      <td>True</td>\n",
       "      <td>Frank Borzage</td>\n",
       "    </tr>\n",
       "    <tr>\n",
       "      <th>2</th>\n",
       "      <td>1928</td>\n",
       "      <td>DIRECTING</td>\n",
       "      <td>True</td>\n",
       "      <td>Frank Lloyd</td>\n",
       "    </tr>\n",
       "    <tr>\n",
       "      <th>3</th>\n",
       "      <td>1929</td>\n",
       "      <td>DIRECTING</td>\n",
       "      <td>True</td>\n",
       "      <td>Lewis Milestone</td>\n",
       "    </tr>\n",
       "    <tr>\n",
       "      <th>4</th>\n",
       "      <td>1930</td>\n",
       "      <td>DIRECTING</td>\n",
       "      <td>True</td>\n",
       "      <td>Skippy</td>\n",
       "    </tr>\n",
       "  </tbody>\n",
       "</table>\n",
       "</div>"
      ],
      "text/plain": [
       "   year   category  winner           entity\n",
       "0  1927  DIRECTING    True  Lewis Milestone\n",
       "1  1927  DIRECTING    True    Frank Borzage\n",
       "2  1928  DIRECTING    True      Frank Lloyd\n",
       "3  1929  DIRECTING    True  Lewis Milestone\n",
       "4  1930  DIRECTING    True           Skippy"
      ]
     },
     "execution_count": 22,
     "metadata": {},
     "output_type": "execute_result"
    }
   ],
   "source": [
    "directing = winner_db.loc[winner_db['category'] == 'DIRECTING', :]\n",
    "directing = directing.reset_index(drop=True)\n",
    "directing.head()"
   ]
  },
  {
   "cell_type": "code",
   "execution_count": 23,
   "metadata": {},
   "outputs": [
    {
     "data": {
      "text/html": [
       "<div>\n",
       "<style scoped>\n",
       "    .dataframe tbody tr th:only-of-type {\n",
       "        vertical-align: middle;\n",
       "    }\n",
       "\n",
       "    .dataframe tbody tr th {\n",
       "        vertical-align: top;\n",
       "    }\n",
       "\n",
       "    .dataframe thead th {\n",
       "        text-align: right;\n",
       "    }\n",
       "</style>\n",
       "<table border=\"1\" class=\"dataframe\">\n",
       "  <thead>\n",
       "    <tr style=\"text-align: right;\">\n",
       "      <th></th>\n",
       "      <th>year</th>\n",
       "      <th>category</th>\n",
       "      <th>winner</th>\n",
       "      <th>entity</th>\n",
       "    </tr>\n",
       "  </thead>\n",
       "  <tbody>\n",
       "    <tr>\n",
       "      <th>0</th>\n",
       "      <td>1934</td>\n",
       "      <td>MUSIC SCORE</td>\n",
       "      <td>True</td>\n",
       "      <td>One Night of Love</td>\n",
       "    </tr>\n",
       "    <tr>\n",
       "      <th>1</th>\n",
       "      <td>1935</td>\n",
       "      <td>MUSIC SCORE</td>\n",
       "      <td>True</td>\n",
       "      <td>The Informer</td>\n",
       "    </tr>\n",
       "    <tr>\n",
       "      <th>2</th>\n",
       "      <td>1936</td>\n",
       "      <td>MUSIC SCORE</td>\n",
       "      <td>True</td>\n",
       "      <td>Anthony Adverse</td>\n",
       "    </tr>\n",
       "    <tr>\n",
       "      <th>3</th>\n",
       "      <td>1937</td>\n",
       "      <td>MUSIC SCORE</td>\n",
       "      <td>True</td>\n",
       "      <td>One Hundred Men and a Girl</td>\n",
       "    </tr>\n",
       "    <tr>\n",
       "      <th>4</th>\n",
       "      <td>1938</td>\n",
       "      <td>MUSIC SCORE</td>\n",
       "      <td>True</td>\n",
       "      <td>The Adventures of Robin Hood</td>\n",
       "    </tr>\n",
       "  </tbody>\n",
       "</table>\n",
       "</div>"
      ],
      "text/plain": [
       "   year     category  winner                        entity\n",
       "0  1934  MUSIC SCORE    True             One Night of Love\n",
       "1  1935  MUSIC SCORE    True                  The Informer\n",
       "2  1936  MUSIC SCORE    True               Anthony Adverse\n",
       "3  1937  MUSIC SCORE    True    One Hundred Men and a Girl\n",
       "4  1938  MUSIC SCORE    True  The Adventures of Robin Hood"
      ]
     },
     "execution_count": 23,
     "metadata": {},
     "output_type": "execute_result"
    }
   ],
   "source": [
    "music_score = winner_db.loc[winner_db['category'] == 'MUSIC SCORE', :]\n",
    "music_score = music_score.reset_index(drop=True)\n",
    "music_score.head()"
   ]
  },
  {
   "cell_type": "code",
   "execution_count": null,
   "metadata": {},
   "outputs": [],
   "source": [
    "original_song = winner_db.loc[winner_db['category'] == 'ORIGINAL SONG', :]\n",
    "original_song = original_song.reset_index(drop=True)\n",
    "original_song.head()"
   ]
  },
  {
   "cell_type": "code",
   "execution_count": null,
   "metadata": {},
   "outputs": [],
   "source": [
    "writing = winner_db.loc[winner_db['category'] == 'WRITING', :]\n",
    "writing = writing.reset_index(drop=True)\n",
    "writing.head()"
   ]
  },
  {
   "cell_type": "code",
   "execution_count": null,
   "metadata": {},
   "outputs": [],
   "source": [
    "short_subject = winner_db.loc[winner_db['category'] == 'SHORT SUBJECT', :]\n",
    "short_subject = short_subject.reset_index(drop=True)\n",
    "short_subject.head()"
   ]
  },
  {
   "cell_type": "code",
   "execution_count": null,
   "metadata": {},
   "outputs": [],
   "source": [
    "scientific_technical = winner_db.loc[winner_db['category'] == 'SCIENTIFIC/TECHNICAL AWARD', :]\n",
    "scientific_technical = scientific_technical.reset_index(drop=True)\n",
    "scientific_technical.head()"
   ]
  },
  {
   "cell_type": "code",
   "execution_count": null,
   "metadata": {},
   "outputs": [],
   "source": [
    "costume_design = winner_db.loc[winner_db['category'] == 'COSTUME DESIGN', :]\n",
    "costume_design = costume_design.reset_index(drop=True)\n",
    "costume_design.head()"
   ]
  },
  {
   "cell_type": "code",
   "execution_count": null,
   "metadata": {},
   "outputs": [],
   "source": [
    "short_film = winner_db.loc[winner_db['category'] == 'SHORT FILM', :]\n",
    "short_film = short_film.reset_index(drop=True)\n",
    "short_film.head()"
   ]
  },
  {
   "cell_type": "code",
   "execution_count": null,
   "metadata": {},
   "outputs": [],
   "source": [
    "directing = winner_db.loc[winner_db['category'] == 'DIRECTING', :]\n",
    "directing = directing.reset_index(drop=True)\n",
    "directing.head()"
   ]
  },
  {
   "cell_type": "code",
   "execution_count": null,
   "metadata": {},
   "outputs": [],
   "source": [
    "documentary = winner_db.loc[winner_db['category'] == 'DOCUMENTARY', :]\n",
    "documentary = documentary.reset_index(drop=True)\n",
    "documentary.head()"
   ]
  },
  {
   "cell_type": "code",
   "execution_count": null,
   "metadata": {},
   "outputs": [],
   "source": [
    "cinematography = winner_db.loc[winner_db['category'] == 'CINEMATOGRAPHY', :]\n",
    "cinematography = cinematography.reset_index(drop=True)\n",
    "cinematography.head()"
   ]
  },
  {
   "cell_type": "code",
   "execution_count": null,
   "metadata": {},
   "outputs": [],
   "source": [
    "art_direction = winner_db.loc[winner_db['category'] == 'ART DIRECTION', :]\n",
    "art_direction = art_direction.reset_index(drop=True)\n",
    "art_direction.head()"
   ]
  },
  {
   "cell_type": "code",
   "execution_count": 24,
   "metadata": {},
   "outputs": [
    {
     "data": {
      "text/html": [
       "<div>\n",
       "<style scoped>\n",
       "    .dataframe tbody tr th:only-of-type {\n",
       "        vertical-align: middle;\n",
       "    }\n",
       "\n",
       "    .dataframe tbody tr th {\n",
       "        vertical-align: top;\n",
       "    }\n",
       "\n",
       "    .dataframe thead th {\n",
       "        text-align: right;\n",
       "    }\n",
       "</style>\n",
       "<table border=\"1\" class=\"dataframe\">\n",
       "  <thead>\n",
       "    <tr style=\"text-align: right;\">\n",
       "      <th></th>\n",
       "      <th>nominee_name</th>\n",
       "    </tr>\n",
       "  </thead>\n",
       "  <tbody>\n",
       "    <tr>\n",
       "      <th>0</th>\n",
       "      <td>Emil Jannings</td>\n",
       "    </tr>\n",
       "    <tr>\n",
       "      <th>1</th>\n",
       "      <td>Warner Baxter</td>\n",
       "    </tr>\n",
       "    <tr>\n",
       "      <th>2</th>\n",
       "      <td>George Arliss</td>\n",
       "    </tr>\n",
       "    <tr>\n",
       "      <th>3</th>\n",
       "      <td>Lionel Barrymore</td>\n",
       "    </tr>\n",
       "    <tr>\n",
       "      <th>4</th>\n",
       "      <td>Wallace Beery</td>\n",
       "    </tr>\n",
       "  </tbody>\n",
       "</table>\n",
       "</div>"
      ],
      "text/plain": [
       "       nominee_name\n",
       "0     Emil Jannings\n",
       "1     Warner Baxter\n",
       "2     George Arliss\n",
       "3  Lionel Barrymore\n",
       "4     Wallace Beery"
      ]
     },
     "execution_count": 24,
     "metadata": {},
     "output_type": "execute_result"
    }
   ],
   "source": [
    "#nominees prepare df\n",
    "nominees_df = pd.concat([actors, actress, directing], ignore_index=True)\n",
    "nominees_df = pd.DataFrame({'nominee_name': nominees_df['entity']})\n",
    "nominees_df.head()"
   ]
  },
  {
   "cell_type": "code",
   "execution_count": 35,
   "metadata": {},
   "outputs": [
    {
     "data": {
      "text/html": [
       "<div>\n",
       "<style scoped>\n",
       "    .dataframe tbody tr th:only-of-type {\n",
       "        vertical-align: middle;\n",
       "    }\n",
       "\n",
       "    .dataframe tbody tr th {\n",
       "        vertical-align: top;\n",
       "    }\n",
       "\n",
       "    .dataframe thead th {\n",
       "        text-align: right;\n",
       "    }\n",
       "</style>\n",
       "<table border=\"1\" class=\"dataframe\">\n",
       "  <thead>\n",
       "    <tr style=\"text-align: right;\">\n",
       "      <th></th>\n",
       "      <th>nominee_id</th>\n",
       "      <th>nominee_id</th>\n",
       "      <th>nominee_id</th>\n",
       "      <th>nominee_name</th>\n",
       "    </tr>\n",
       "  </thead>\n",
       "  <tbody>\n",
       "    <tr>\n",
       "      <th>0</th>\n",
       "      <td>0</td>\n",
       "      <td>0</td>\n",
       "      <td>0</td>\n",
       "      <td>Emil Jannings</td>\n",
       "    </tr>\n",
       "    <tr>\n",
       "      <th>1</th>\n",
       "      <td>1</td>\n",
       "      <td>1</td>\n",
       "      <td>1</td>\n",
       "      <td>Warner Baxter</td>\n",
       "    </tr>\n",
       "    <tr>\n",
       "      <th>2</th>\n",
       "      <td>2</td>\n",
       "      <td>2</td>\n",
       "      <td>2</td>\n",
       "      <td>George Arliss</td>\n",
       "    </tr>\n",
       "    <tr>\n",
       "      <th>3</th>\n",
       "      <td>3</td>\n",
       "      <td>3</td>\n",
       "      <td>3</td>\n",
       "      <td>Lionel Barrymore</td>\n",
       "    </tr>\n",
       "    <tr>\n",
       "      <th>4</th>\n",
       "      <td>4</td>\n",
       "      <td>4</td>\n",
       "      <td>4</td>\n",
       "      <td>Wallace Beery</td>\n",
       "    </tr>\n",
       "  </tbody>\n",
       "</table>\n",
       "</div>"
      ],
      "text/plain": [
       "   nominee_id  nominee_id  nominee_id      nominee_name\n",
       "0           0           0           0     Emil Jannings\n",
       "1           1           1           1     Warner Baxter\n",
       "2           2           2           2     George Arliss\n",
       "3           3           3           3  Lionel Barrymore\n",
       "4           4           4           4     Wallace Beery"
      ]
     },
     "execution_count": 35,
     "metadata": {},
     "output_type": "execute_result"
    }
   ],
   "source": [
    "#nominees prepare df \n",
    "nominees_df = nominees_df.reset_index() \n",
    "nominees_df = nominees_df.rename(columns={'index': 'nominee_id'})\n",
    "nominees_df.head()"
   ]
  },
  {
   "cell_type": "code",
   "execution_count": 36,
   "metadata": {},
   "outputs": [
    {
     "name": "stdout",
     "output_type": "stream",
     "text": [
      "Values Succesfully Insert To nominees\n"
     ]
    }
   ],
   "source": [
    "##award_categories insert df to table\n",
    "insertvalues(conn, \"nominees\", nominees_df)"
   ]
  },
  {
   "cell_type": "code",
   "execution_count": null,
   "metadata": {},
   "outputs": [],
   "source": []
  }
 ],
 "metadata": {
  "kernelspec": {
   "display_name": "Python 3",
   "language": "python",
   "name": "python3"
  },
  "language_info": {
   "codemirror_mode": {
    "name": "ipython",
    "version": 3
   },
   "file_extension": ".py",
   "mimetype": "text/x-python",
   "name": "python",
   "nbconvert_exporter": "python",
   "pygments_lexer": "ipython3",
   "version": "3.8.5"
  }
 },
 "nbformat": 4,
 "nbformat_minor": 5
}
